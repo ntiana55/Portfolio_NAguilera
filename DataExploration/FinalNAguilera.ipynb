{
 "cells": [
  {
   "cell_type": "code",
   "execution_count": 13,
   "metadata": {},
   "outputs": [
    {
     "name": "stdout",
     "output_type": "stream",
     "text": [
      "       longitude  latitude  housing_median_age  total_rooms  total_bedrooms  \\\n",
      "0        -122.23     37.88                  41          880             129   \n",
      "1        -122.22     37.86                  21         7099            1106   \n",
      "2        -122.24     37.85                  52         1467             190   \n",
      "3        -122.25     37.85                  52         1274             235   \n",
      "4        -122.25     37.85                  52         1627             280   \n",
      "...          ...       ...                 ...          ...             ...   \n",
      "20428    -121.09     39.48                  25         1665             374   \n",
      "20429    -121.21     39.49                  18          697             150   \n",
      "20430    -121.22     39.43                  17         2254             485   \n",
      "20431    -121.32     39.43                  18         1860             409   \n",
      "20432    -121.24     39.37                  16         2785             616   \n",
      "\n",
      "       population  households  median_income  median_house_value  \\\n",
      "0             322         126         8.3252              452600   \n",
      "1            2401        1138         8.3014              358500   \n",
      "2             496         177         7.2574              352100   \n",
      "3             558         219         5.6431              341300   \n",
      "4             565         259         3.8462              342200   \n",
      "...           ...         ...            ...                 ...   \n",
      "20428         845         330         1.5603               78100   \n",
      "20429         356         114         2.5568               77100   \n",
      "20430        1007         433         1.7000               92300   \n",
      "20431         741         349         1.8672               84700   \n",
      "20432        1387         530         2.3886               89400   \n",
      "\n",
      "      ocean_proximity  \n",
      "0            NEAR BAY  \n",
      "1            NEAR BAY  \n",
      "2            NEAR BAY  \n",
      "3            NEAR BAY  \n",
      "4            NEAR BAY  \n",
      "...               ...  \n",
      "20428          INLAND  \n",
      "20429          INLAND  \n",
      "20430          INLAND  \n",
      "20431          INLAND  \n",
      "20432          INLAND  \n",
      "\n",
      "[20433 rows x 10 columns]\n"
     ]
    }
   ],
   "source": [
    "import pandas as pd\n",
    "df = pd.read_csv (r'/Users/Nicole/Documents/530DataAnalysis/housing.csv')\n",
    "print (df)"
   ]
  },
  {
   "cell_type": "code",
   "execution_count": 14,
   "metadata": {},
   "outputs": [
    {
     "data": {
      "text/html": [
       "<div>\n",
       "<style scoped>\n",
       "    .dataframe tbody tr th:only-of-type {\n",
       "        vertical-align: middle;\n",
       "    }\n",
       "\n",
       "    .dataframe tbody tr th {\n",
       "        vertical-align: top;\n",
       "    }\n",
       "\n",
       "    .dataframe thead th {\n",
       "        text-align: right;\n",
       "    }\n",
       "</style>\n",
       "<table border=\"1\" class=\"dataframe\">\n",
       "  <thead>\n",
       "    <tr style=\"text-align: right;\">\n",
       "      <th></th>\n",
       "      <th>longitude</th>\n",
       "      <th>latitude</th>\n",
       "      <th>housing_median_age</th>\n",
       "      <th>total_rooms</th>\n",
       "      <th>total_bedrooms</th>\n",
       "      <th>population</th>\n",
       "      <th>households</th>\n",
       "      <th>median_income</th>\n",
       "      <th>median_house_value</th>\n",
       "      <th>ocean_proximity</th>\n",
       "    </tr>\n",
       "  </thead>\n",
       "  <tbody>\n",
       "    <tr>\n",
       "      <th>0</th>\n",
       "      <td>-122.23</td>\n",
       "      <td>37.88</td>\n",
       "      <td>41</td>\n",
       "      <td>880</td>\n",
       "      <td>129</td>\n",
       "      <td>322</td>\n",
       "      <td>126</td>\n",
       "      <td>8.3252</td>\n",
       "      <td>452600</td>\n",
       "      <td>NEAR BAY</td>\n",
       "    </tr>\n",
       "    <tr>\n",
       "      <th>1</th>\n",
       "      <td>-122.22</td>\n",
       "      <td>37.86</td>\n",
       "      <td>21</td>\n",
       "      <td>7099</td>\n",
       "      <td>1106</td>\n",
       "      <td>2401</td>\n",
       "      <td>1138</td>\n",
       "      <td>8.3014</td>\n",
       "      <td>358500</td>\n",
       "      <td>NEAR BAY</td>\n",
       "    </tr>\n",
       "    <tr>\n",
       "      <th>2</th>\n",
       "      <td>-122.24</td>\n",
       "      <td>37.85</td>\n",
       "      <td>52</td>\n",
       "      <td>1467</td>\n",
       "      <td>190</td>\n",
       "      <td>496</td>\n",
       "      <td>177</td>\n",
       "      <td>7.2574</td>\n",
       "      <td>352100</td>\n",
       "      <td>NEAR BAY</td>\n",
       "    </tr>\n",
       "    <tr>\n",
       "      <th>3</th>\n",
       "      <td>-122.25</td>\n",
       "      <td>37.85</td>\n",
       "      <td>52</td>\n",
       "      <td>1274</td>\n",
       "      <td>235</td>\n",
       "      <td>558</td>\n",
       "      <td>219</td>\n",
       "      <td>5.6431</td>\n",
       "      <td>341300</td>\n",
       "      <td>NEAR BAY</td>\n",
       "    </tr>\n",
       "    <tr>\n",
       "      <th>4</th>\n",
       "      <td>-122.25</td>\n",
       "      <td>37.85</td>\n",
       "      <td>52</td>\n",
       "      <td>1627</td>\n",
       "      <td>280</td>\n",
       "      <td>565</td>\n",
       "      <td>259</td>\n",
       "      <td>3.8462</td>\n",
       "      <td>342200</td>\n",
       "      <td>NEAR BAY</td>\n",
       "    </tr>\n",
       "  </tbody>\n",
       "</table>\n",
       "</div>"
      ],
      "text/plain": [
       "   longitude  latitude  housing_median_age  total_rooms  total_bedrooms  \\\n",
       "0    -122.23     37.88                  41          880             129   \n",
       "1    -122.22     37.86                  21         7099            1106   \n",
       "2    -122.24     37.85                  52         1467             190   \n",
       "3    -122.25     37.85                  52         1274             235   \n",
       "4    -122.25     37.85                  52         1627             280   \n",
       "\n",
       "   population  households  median_income  median_house_value ocean_proximity  \n",
       "0         322         126         8.3252              452600        NEAR BAY  \n",
       "1        2401        1138         8.3014              358500        NEAR BAY  \n",
       "2         496         177         7.2574              352100        NEAR BAY  \n",
       "3         558         219         5.6431              341300        NEAR BAY  \n",
       "4         565         259         3.8462              342200        NEAR BAY  "
      ]
     },
     "execution_count": 14,
     "metadata": {},
     "output_type": "execute_result"
    }
   ],
   "source": [
    "df.head()"
   ]
  },
  {
   "cell_type": "code",
   "execution_count": 16,
   "metadata": {},
   "outputs": [],
   "source": [
    "import matplotlib.pyplot as plt\n",
    "import numpy as np\n",
    "%matplotlib inline"
   ]
  },
  {
   "cell_type": "code",
   "execution_count": 32,
   "metadata": {},
   "outputs": [
    {
     "data": {
      "text/plain": [
       "(-1780.9499999999998, 10000.0)"
      ]
     },
     "execution_count": 32,
     "metadata": {},
     "output_type": "execute_result"
    },
    {
     "data": {
      "image/png": "[encoded data removed]",
      "text/plain": [
       "<Figure size 432x288 with 1 Axes>"
      ]
     },
     "metadata": {
      "needs_background": "light"
     },
     "output_type": "display_data"
    }
   ],
   "source": [
    "n, bins, patches = plt.hist(x=df.population, bins=40, color='blue')\n",
    "maxfreq = n.max()\n",
    "plt.xlim(xmax=np.ceil(maxfreq / 5000) * 5000 if maxfreq % 5000 else maxfreq + 5000)"
   ]
  },
  {
   "cell_type": "code",
   "execution_count": 33,
   "metadata": {},
   "outputs": [
    {
     "data": {
      "image/png": "[encoded data removed]",
      "text/plain": [
       "<Figure size 432x288 with 1 Axes>"
      ]
     },
     "metadata": {
      "needs_background": "light"
     },
     "output_type": "display_data"
    }
   ],
   "source": [
    "n, bins, patches = plt.hist(x=df.longitude, bins=40, color='blue')"
   ]
  },
  {
   "cell_type": "code",
   "execution_count": 34,
   "metadata": {},
   "outputs": [
    {
     "data": {
      "image/png": "[encoded data removed]",
      "text/plain": [
       "<Figure size 432x288 with 1 Axes>"
      ]
     },
     "metadata": {
      "needs_background": "light"
     },
     "output_type": "display_data"
    }
   ],
   "source": [
    "n, bins, patches = plt.hist(x=df.latitude, bins=40, color='blue')"
   ]
  },
  {
   "cell_type": "code",
   "execution_count": 35,
   "metadata": {},
   "outputs": [
    {
     "data": {
      "image/png": "[encoded data removed]",
      "text/plain": [
       "<Figure size 432x288 with 1 Axes>"
      ]
     },
     "metadata": {
      "needs_background": "light"
     },
     "output_type": "display_data"
    }
   ],
   "source": [
    "n, bins, patches = plt.hist(x=df.housing_median_age, bins=40, color='blue')"
   ]
  },
  {
   "cell_type": "code",
   "execution_count": 41,
   "metadata": {},
   "outputs": [
    {
     "data": {
      "text/plain": [
       "(-1963.9000000000005, 5000.0)"
      ]
     },
     "execution_count": 41,
     "metadata": {},
     "output_type": "execute_result"
    },
    {
     "data": {
      "image/png": "[encoded data removed]",
      "text/plain": [
       "<Figure size 432x288 with 1 Axes>"
      ]
     },
     "metadata": {
      "needs_background": "light"
     },
     "output_type": "display_data"
    }
   ],
   "source": [
    "n, bins, patches = plt.hist(x=df.total_rooms, bins=150, color='blue')\n",
    "maxfreq = n.max()\n",
    "plt.xlim(xmax=np.ceil(maxfreq / 5000) * 5000 if maxfreq % 5000 else maxfreq + 5000)"
   ]
  },
  {
   "cell_type": "code",
   "execution_count": 49,
   "metadata": {},
   "outputs": [
    {
     "data": {
      "text/plain": [
       "(-321.20000000000005, 6000.0)"
      ]
     },
     "execution_count": 49,
     "metadata": {},
     "output_type": "execute_result"
    },
    {
     "data": {
      "image/png": "[encoded data removed]",
      "text/plain": [
       "<Figure size 432x288 with 1 Axes>"
      ]
     },
     "metadata": {
      "needs_background": "light"
     },
     "output_type": "display_data"
    }
   ],
   "source": [
    "n, bins, patches = plt.hist(x=df.total_bedrooms, bins=40, color='blue')\n",
    "maxfreq = n.max()\n",
    "plt.xlim(xmax=np.ceil(maxfreq / 1000) * 1000 if maxfreq % 1000 else maxfreq + 1000)"
   ]
  },
  {
   "cell_type": "code",
   "execution_count": 51,
   "metadata": {},
   "outputs": [
    {
     "data": {
      "text/plain": [
       "(-303.05, 3000.0)"
      ]
     },
     "execution_count": 51,
     "metadata": {},
     "output_type": "execute_result"
    },
    {
     "data": {
      "image/png": "[encoded data removed]",
      "text/plain": [
       "<Figure size 432x288 with 1 Axes>"
      ]
     },
     "metadata": {
      "needs_background": "light"
     },
     "output_type": "display_data"
    }
   ],
   "source": [
    "n, bins, patches = plt.hist(x=df.households, bins=100, color='blue')\n",
    "maxfreq = n.max()\n",
    "plt.xlim(xmax=np.ceil(maxfreq / 1000) * 1000 if maxfreq % 1000 else maxfreq + 1000)"
   ]
  },
  {
   "cell_type": "code",
   "execution_count": 54,
   "metadata": {},
   "outputs": [
    {
     "data": {
      "image/png": "[encoded data removed]",
      "text/plain": [
       "<Figure size 432x288 with 1 Axes>"
      ]
     },
     "metadata": {
      "needs_background": "light"
     },
     "output_type": "display_data"
    }
   ],
   "source": [
    "n, bins, patches = plt.hist(x=df.median_income, bins=30, color='blue')"
   ]
  },
  {
   "cell_type": "code",
   "execution_count": 57,
   "metadata": {},
   "outputs": [
    {
     "data": {
      "image/png": "[encoded data removed]",
      "text/plain": [
       "<Figure size 432x288 with 1 Axes>"
      ]
     },
     "metadata": {
      "needs_background": "light"
     },
     "output_type": "display_data"
    }
   ],
   "source": [
    "n, bins, patches = plt.hist(x=df.median_house_value, bins=150, color='blue')"
   ]
  },
  {
   "cell_type": "code",
   "execution_count": 62,
   "metadata": {},
   "outputs": [
    {
     "data": {
      "image/png": "[encoded data removed]",
      "text/plain": [
       "<Figure size 432x288 with 1 Axes>"
      ]
     },
     "metadata": {
      "needs_background": "light"
     },
     "output_type": "display_data"
    }
   ],
   "source": [
    "n, bins, patches = plt.hist(x=df.ocean_proximity, bins=15, color='blue')"
   ]
  },
  {
   "cell_type": "code",
   "execution_count": 76,
   "metadata": {},
   "outputs": [
    {
     "name": "stdout",
     "output_type": "stream",
     "text": [
      "-119.57068859198068\n",
      "0   -118.31\n",
      "dtype: float64\n",
      "4.014324364306444\n"
     ]
    }
   ],
   "source": [
    "mean = df.longitude.mean()\n",
    "mode = df.longitude.mode()\n",
    "var = df.longitude.var()\n",
    "print(mean)\n",
    "print(mode)\n",
    "print(var)"
   ]
  },
  {
   "cell_type": "code",
   "execution_count": 77,
   "metadata": {},
   "outputs": [
    {
     "name": "stdout",
     "output_type": "stream",
     "text": [
      "35.63322125972706\n",
      "0    34.06\n",
      "dtype: float64\n",
      "4.5639813516387715\n"
     ]
    }
   ],
   "source": [
    "mean = df.latitude.mean()\n",
    "mode = df.latitude.mode()\n",
    "var = df.latitude.var()\n",
    "print(mean)\n",
    "print(mode)\n",
    "print(var)"
   ]
  },
  {
   "cell_type": "code",
   "execution_count": 78,
   "metadata": {},
   "outputs": [
    {
     "name": "stdout",
     "output_type": "stream",
     "text": [
      "28.633093525179856\n",
      "0    52\n",
      "dtype: int64\n",
      "158.55355824971716\n"
     ]
    }
   ],
   "source": [
    "mean = df.housing_median_age.mean()\n",
    "mode = df.housing_median_age.mode()\n",
    "var = df.housing_median_age.var()\n",
    "print(mean)\n",
    "print(mode)\n",
    "print(var)"
   ]
  },
  {
   "cell_type": "code",
   "execution_count": 79,
   "metadata": {},
   "outputs": [
    {
     "name": "stdout",
     "output_type": "stream",
     "text": [
      "2636.5042333480155\n",
      "0    1527\n",
      "dtype: int64\n",
      "4775403.080358456\n"
     ]
    }
   ],
   "source": [
    "mean = df.total_rooms.mean()\n",
    "mode = df.total_rooms.mode()\n",
    "var = df.total_rooms.var()\n",
    "print(mean)\n",
    "print(mode)\n",
    "print(var)"
   ]
  },
  {
   "cell_type": "code",
   "execution_count": 80,
   "metadata": {},
   "outputs": [
    {
     "name": "stdout",
     "output_type": "stream",
     "text": [
      "537.8705525375618\n",
      "0    280\n",
      "dtype: int64\n",
      "177565.37728129706\n"
     ]
    }
   ],
   "source": [
    "mean = df.total_bedrooms.mean()\n",
    "mode = df.total_bedrooms.mode()\n",
    "var = df.total_bedrooms.var()\n",
    "print(mean)\n",
    "print(mode)\n",
    "print(var)"
   ]
  },
  {
   "cell_type": "code",
   "execution_count": 81,
   "metadata": {},
   "outputs": [
    {
     "name": "stdout",
     "output_type": "stream",
     "text": [
      "1424.9469485635982\n",
      "0    891\n",
      "dtype: int64\n",
      "1284161.4812300445\n"
     ]
    }
   ],
   "source": [
    "mean = df.population.mean()\n",
    "mode = df.population.mode()\n",
    "var = df.population.var()\n",
    "print(mean)\n",
    "print(mode)\n",
    "print(var)"
   ]
  },
  {
   "cell_type": "code",
   "execution_count": 82,
   "metadata": {},
   "outputs": [
    {
     "name": "stdout",
     "output_type": "stream",
     "text": [
      "499.43346547251997\n",
      "0    306\n",
      "dtype: int64\n",
      "146152.69811062567\n"
     ]
    }
   ],
   "source": [
    "mean = df.households.mean()\n",
    "mode = df.households.mode()\n",
    "var = df.households.var()\n",
    "print(mean)\n",
    "print(mode)\n",
    "print(var)"
   ]
  },
  {
   "cell_type": "code",
   "execution_count": 83,
   "metadata": {},
   "outputs": [
    {
     "name": "stdout",
     "output_type": "stream",
     "text": [
      "3.8711616013312273\n",
      "0    3.125\n",
      "dtype: float64\n",
      "3.6073072496913032\n"
     ]
    }
   ],
   "source": [
    "mean = df.median_income.mean()\n",
    "mode = df.median_income.mode()\n",
    "var = df.median_income.var()\n",
    "print(mean)\n",
    "print(mode)\n",
    "print(var)"
   ]
  },
  {
   "cell_type": "code",
   "execution_count": 84,
   "metadata": {},
   "outputs": [
    {
     "name": "stdout",
     "output_type": "stream",
     "text": [
      "206864.41315519012\n",
      "0    500001\n",
      "dtype: int64\n",
      "13325393238.495186\n"
     ]
    }
   ],
   "source": [
    "mean = df.median_house_value.mean()\n",
    "mode = df.median_house_value.mode()\n",
    "var = df.median_house_value.var()\n",
    "print(mean)\n",
    "print(mode)\n",
    "print(var)"
   ]
  },
  {
   "cell_type": "code",
   "execution_count": 92,
   "metadata": {},
   "outputs": [
    {
     "data": {
      "text/plain": [
       "<matplotlib.axes._subplots.AxesSubplot at 0x11d11e190>"
      ]
     },
     "execution_count": 92,
     "metadata": {},
     "output_type": "execute_result"
    },
    {
     "data": {
      "image/png": "[encoded data removed]",
      "text/plain": [
       "<Figure size 432x288 with 1 Axes>"
      ]
     },
     "metadata": {
      "needs_background": "light"
     },
     "output_type": "display_data"
    }
   ],
   "source": [
    "ocean = df.ocean_proximity\n",
    "pmf = ocean.value_counts().sort_index() / len(ocean)\n",
    "pmf.plot(kind='bar')"
   ]
  },
  {
   "cell_type": "code",
   "execution_count": 93,
   "metadata": {},
   "outputs": [
    {
     "data": {
      "text/plain": [
       "<matplotlib.axes._subplots.AxesSubplot at 0x11c2532e0>"
      ]
     },
     "execution_count": 93,
     "metadata": {},
     "output_type": "execute_result"
    },
    {
     "data": {
      "image/png": "[encoded data removed]",
      "text/plain": [
       "<Figure size 432x288 with 1 Axes>"
      ]
     },
     "metadata": {
      "needs_background": "light"
     },
     "output_type": "display_data"
    }
   ],
   "source": [
    "house_age = df.housing_median_age #age of houses in a block\n",
    "pmf = house_age.value_counts().sort_index() / len(house_age)\n",
    "pmf.plot(kind='bar')"
   ]
  },
  {
   "cell_type": "code",
   "execution_count": 95,
   "metadata": {},
   "outputs": [
    {
     "data": {
      "image/png": "[encoded data removed]",
      "text/plain": [
       "<Figure size 432x288 with 1 Axes>"
      ]
     },
     "metadata": {
      "needs_background": "light"
     },
     "output_type": "display_data"
    }
   ],
   "source": [
    "n, bins, patches = plt.hist(x=df.housing_median_age, bins=30, density=True, histtype='step',\n",
    "                           cumulative=True)"
   ]
  },
  {
   "cell_type": "code",
   "execution_count": 96,
   "metadata": {},
   "outputs": [
    {
     "data": {
      "image/png": "[encoded data removed]",
      "text/plain": [
       "<Figure size 432x288 with 1 Axes>"
      ]
     },
     "metadata": {
      "needs_background": "light"
     },
     "output_type": "display_data"
    }
   ],
   "source": [
    "n, bins, patches = plt.hist(x=df.median_house_value, bins=30, density=True, histtype='step',\n",
    "                           cumulative=True)"
   ]
  },
  {
   "cell_type": "code",
   "execution_count": 104,
   "metadata": {},
   "outputs": [
    {
     "data": {
      "text/plain": [
       "[<matplotlib.lines.Line2D at 0x11c908e50>]"
      ]
     },
     "execution_count": 104,
     "metadata": {},
     "output_type": "execute_result"
    },
    {
     "data": {
      "image/png": "[encoded data removed]",
      "text/plain": [
       "<Figure size 432x288 with 1 Axes>"
      ]
     },
     "metadata": {
      "needs_background": "light"
     },
     "output_type": "display_data"
    }
   ],
   "source": [
    "x = df.total_rooms\n",
    "y = df.median_income\n",
    "plt.plot(x, y, 'o')"
   ]
  },
  {
   "cell_type": "code",
   "execution_count": 105,
   "metadata": {},
   "outputs": [
    {
     "data": {
      "text/plain": [
       "[<matplotlib.lines.Line2D at 0x11c8f56a0>]"
      ]
     },
     "execution_count": 105,
     "metadata": {},
     "output_type": "execute_result"
    },
    {
     "data": {
      "image/png": "[encoded data removed]",
      "text/plain": [
       "<Figure size 432x288 with 1 Axes>"
      ]
     },
     "metadata": {
      "needs_background": "light"
     },
     "output_type": "display_data"
    }
   ],
   "source": [
    "x = df.median_house_value\n",
    "y = df.median_income\n",
    "plt.plot(x, y, 'o')"
   ]
  },
  {
   "cell_type": "code",
   "execution_count": 116,
   "metadata": {},
   "outputs": [],
   "source": [
    "from sklearn.linear_model import LinearRegression\n",
    "import statsmodels.api as sm"
   ]
  },
  {
   "cell_type": "code",
   "execution_count": 140,
   "metadata": {},
   "outputs": [
    {
     "name": "stdout",
     "output_type": "stream",
     "text": [
      "       longitude  latitude  housing_median_age  total_rooms  total_bedrooms  \\\n",
      "0        -122.23     37.88                  41          880             129   \n",
      "1        -122.22     37.86                  21         7099            1106   \n",
      "2        -122.24     37.85                  52         1467             190   \n",
      "3        -122.25     37.85                  52         1274             235   \n",
      "4        -122.25     37.85                  52         1627             280   \n",
      "...          ...       ...                 ...          ...             ...   \n",
      "20428    -121.09     39.48                  25         1665             374   \n",
      "20429    -121.21     39.49                  18          697             150   \n",
      "20430    -121.22     39.43                  17         2254             485   \n",
      "20431    -121.32     39.43                  18         1860             409   \n",
      "20432    -121.24     39.37                  16         2785             616   \n",
      "\n",
      "       population  households  median_income  median_house_value  \\\n",
      "0             322         126         8.3252              452600   \n",
      "1            2401        1138         8.3014              358500   \n",
      "2             496         177         7.2574              352100   \n",
      "3             558         219         5.6431              341300   \n",
      "4             565         259         3.8462              342200   \n",
      "...           ...         ...            ...                 ...   \n",
      "20428         845         330         1.5603               78100   \n",
      "20429         356         114         2.5568               77100   \n",
      "20430        1007         433         1.7000               92300   \n",
      "20431         741         349         1.8672               84700   \n",
      "20432        1387         530         2.3886               89400   \n",
      "\n",
      "      ocean_proximity  \n",
      "0            NEAR BAY  \n",
      "1            NEAR BAY  \n",
      "2            NEAR BAY  \n",
      "3            NEAR BAY  \n",
      "4            NEAR BAY  \n",
      "...               ...  \n",
      "20428          INLAND  \n",
      "20429          INLAND  \n",
      "20430          INLAND  \n",
      "20431          INLAND  \n",
      "20432          INLAND  \n",
      "\n",
      "[20433 rows x 10 columns]\n"
     ]
    }
   ],
   "source": [
    "df = pd.read_csv (r'/Users/Nicole/Documents/530DataAnalysis/housing.csv')\n",
    "print (df)"
   ]
  },
  {
   "cell_type": "code",
   "execution_count": 150,
   "metadata": {},
   "outputs": [],
   "source": [
    "X = df[['longitude', 'latitude', 'housing_median_age',\n",
    "       'total_rooms', 'total_bedrooms', 'population', 'households', 'median_income']]\n",
    "y = df['median_house_value']"
   ]
  },
  {
   "cell_type": "code",
   "execution_count": 151,
   "metadata": {},
   "outputs": [
    {
     "data": {
      "text/plain": [
       "Index(['longitude', 'latitude', 'housing_median_age', 'total_rooms',\n",
       "       'total_bedrooms', 'population', 'households', 'median_income',\n",
       "       'median_house_value', 'ocean_proximity'],\n",
       "      dtype='object')"
      ]
     },
     "execution_count": 151,
     "metadata": {},
     "output_type": "execute_result"
    }
   ],
   "source": [
    "df.columns"
   ]
  },
  {
   "cell_type": "code",
   "execution_count": 152,
   "metadata": {},
   "outputs": [],
   "source": [
    "from sklearn.model_selection import train_test_split\n",
    "X_train, X_test, y_train, y_test = train_test_split(X, y, test_size=0.2, random_state=0)"
   ]
  },
  {
   "cell_type": "code",
   "execution_count": 153,
   "metadata": {},
   "outputs": [
    {
     "data": {
      "text/plain": [
       "LinearRegression()"
      ]
     },
     "execution_count": 153,
     "metadata": {},
     "output_type": "execute_result"
    }
   ],
   "source": [
    "from sklearn.linear_model import LinearRegression\n",
    "regressor = LinearRegression()\n",
    "regressor.fit(X_train, y_train)"
   ]
  },
  {
   "cell_type": "code",
   "execution_count": 154,
   "metadata": {},
   "outputs": [
    {
     "data": {
      "text/html": [
       "<div>\n",
       "<style scoped>\n",
       "    .dataframe tbody tr th:only-of-type {\n",
       "        vertical-align: middle;\n",
       "    }\n",
       "\n",
       "    .dataframe tbody tr th {\n",
       "        vertical-align: top;\n",
       "    }\n",
       "\n",
       "    .dataframe thead th {\n",
       "        text-align: right;\n",
       "    }\n",
       "</style>\n",
       "<table border=\"1\" class=\"dataframe\">\n",
       "  <thead>\n",
       "    <tr style=\"text-align: right;\">\n",
       "      <th></th>\n",
       "      <th>Coefficient</th>\n",
       "    </tr>\n",
       "  </thead>\n",
       "  <tbody>\n",
       "    <tr>\n",
       "      <th>longitude</th>\n",
       "      <td>-43198.470713</td>\n",
       "    </tr>\n",
       "    <tr>\n",
       "      <th>latitude</th>\n",
       "      <td>-42715.326923</td>\n",
       "    </tr>\n",
       "    <tr>\n",
       "      <th>housing_median_age</th>\n",
       "      <td>1169.389621</td>\n",
       "    </tr>\n",
       "    <tr>\n",
       "      <th>total_rooms</th>\n",
       "      <td>-8.051976</td>\n",
       "    </tr>\n",
       "    <tr>\n",
       "      <th>total_bedrooms</th>\n",
       "      <td>115.106790</td>\n",
       "    </tr>\n",
       "    <tr>\n",
       "      <th>population</th>\n",
       "      <td>-36.078471</td>\n",
       "    </tr>\n",
       "    <tr>\n",
       "      <th>households</th>\n",
       "      <td>39.119094</td>\n",
       "    </tr>\n",
       "    <tr>\n",
       "      <th>median_income</th>\n",
       "      <td>40155.828101</td>\n",
       "    </tr>\n",
       "  </tbody>\n",
       "</table>\n",
       "</div>"
      ],
      "text/plain": [
       "                     Coefficient\n",
       "longitude          -43198.470713\n",
       "latitude           -42715.326923\n",
       "housing_median_age   1169.389621\n",
       "total_rooms            -8.051976\n",
       "total_bedrooms        115.106790\n",
       "population            -36.078471\n",
       "households             39.119094\n",
       "median_income       40155.828101"
      ]
     },
     "execution_count": 154,
     "metadata": {},
     "output_type": "execute_result"
    }
   ],
   "source": [
    "coeff_df = pd.DataFrame(regressor.coef_, X.columns, columns=['Coefficient'])\n",
    "coeff_df"
   ]
  },
  {
   "cell_type": "code",
   "execution_count": 161,
   "metadata": {},
   "outputs": [
    {
     "data": {
      "text/html": [
       "<table class=\"simpletable\">\n",
       "<caption>OLS Regression Results</caption>\n",
       "<tr>\n",
       "  <th>Dep. Variable:</th>    <td>median_house_value</td> <th>  R-squared:         </th>  <td>   0.637</td>  \n",
       "</tr>\n",
       "<tr>\n",
       "  <th>Model:</th>                    <td>OLS</td>        <th>  Adj. R-squared:    </th>  <td>   0.637</td>  \n",
       "</tr>\n",
       "<tr>\n",
       "  <th>Method:</th>              <td>Least Squares</td>   <th>  F-statistic:       </th>  <td>   4478.</td>  \n",
       "</tr>\n",
       "<tr>\n",
       "  <th>Date:</th>              <td>Wed, 18 Nov 2020</td>  <th>  Prob (F-statistic):</th>   <td>  0.00</td>   \n",
       "</tr>\n",
       "<tr>\n",
       "  <th>Time:</th>                  <td>19:50:14</td>      <th>  Log-Likelihood:    </th> <td>-2.5682e+05</td>\n",
       "</tr>\n",
       "<tr>\n",
       "  <th>No. Observations:</th>       <td> 20433</td>       <th>  AIC:               </th>  <td>5.137e+05</td> \n",
       "</tr>\n",
       "<tr>\n",
       "  <th>Df Residuals:</th>           <td> 20424</td>       <th>  BIC:               </th>  <td>5.137e+05</td> \n",
       "</tr>\n",
       "<tr>\n",
       "  <th>Df Model:</th>               <td>     8</td>       <th>                     </th>      <td> </td>     \n",
       "</tr>\n",
       "<tr>\n",
       "  <th>Covariance Type:</th>       <td>nonrobust</td>     <th>                     </th>      <td> </td>     \n",
       "</tr>\n",
       "</table>\n",
       "<table class=\"simpletable\">\n",
       "<tr>\n",
       "           <td></td>             <th>coef</th>     <th>std err</th>      <th>t</th>      <th>P>|t|</th>  <th>[0.025</th>    <th>0.975]</th>  \n",
       "</tr>\n",
       "<tr>\n",
       "  <th>Intercept</th>          <td>-3.585e+06</td> <td> 6.29e+04</td> <td>  -57.001</td> <td> 0.000</td> <td>-3.71e+06</td> <td>-3.46e+06</td>\n",
       "</tr>\n",
       "<tr>\n",
       "  <th>longitude</th>          <td>-4.273e+04</td> <td>  717.087</td> <td>  -59.588</td> <td> 0.000</td> <td>-4.41e+04</td> <td>-4.13e+04</td>\n",
       "</tr>\n",
       "<tr>\n",
       "  <th>latitude</th>           <td>-4.251e+04</td> <td>  676.952</td> <td>  -62.796</td> <td> 0.000</td> <td>-4.38e+04</td> <td>-4.12e+04</td>\n",
       "</tr>\n",
       "<tr>\n",
       "  <th>housing_median_age</th> <td> 1157.9003</td> <td>   43.389</td> <td>   26.687</td> <td> 0.000</td> <td> 1072.855</td> <td> 1242.945</td>\n",
       "</tr>\n",
       "<tr>\n",
       "  <th>total_rooms</th>        <td>   -8.2497</td> <td>    0.794</td> <td>  -10.387</td> <td> 0.000</td> <td>   -9.807</td> <td>   -6.693</td>\n",
       "</tr>\n",
       "<tr>\n",
       "  <th>total_bedrooms</th>     <td>  113.8207</td> <td>    6.931</td> <td>   16.423</td> <td> 0.000</td> <td>  100.236</td> <td>  127.405</td>\n",
       "</tr>\n",
       "<tr>\n",
       "  <th>population</th>         <td>  -38.3856</td> <td>    1.084</td> <td>  -35.407</td> <td> 0.000</td> <td>  -40.511</td> <td>  -36.261</td>\n",
       "</tr>\n",
       "<tr>\n",
       "  <th>households</th>         <td>   47.7014</td> <td>    7.547</td> <td>    6.321</td> <td> 0.000</td> <td>   32.909</td> <td>   62.493</td>\n",
       "</tr>\n",
       "<tr>\n",
       "  <th>median_income</th>      <td>  4.03e+04</td> <td>  337.207</td> <td>  119.504</td> <td> 0.000</td> <td> 3.96e+04</td> <td>  4.1e+04</td>\n",
       "</tr>\n",
       "</table>\n",
       "<table class=\"simpletable\">\n",
       "<tr>\n",
       "  <th>Omnibus:</th>       <td>4898.534</td> <th>  Durbin-Watson:     </th> <td>   0.975</td> \n",
       "</tr>\n",
       "<tr>\n",
       "  <th>Prob(Omnibus):</th>  <td> 0.000</td>  <th>  Jarque-Bera (JB):  </th> <td>18260.733</td>\n",
       "</tr>\n",
       "<tr>\n",
       "  <th>Skew:</th>           <td> 1.166</td>  <th>  Prob(JB):          </th> <td>    0.00</td> \n",
       "</tr>\n",
       "<tr>\n",
       "  <th>Kurtosis:</th>       <td> 7.002</td>  <th>  Cond. No.          </th> <td>5.10e+05</td> \n",
       "</tr>\n",
       "</table><br/><br/>Warnings:<br/>[1] Standard Errors assume that the covariance matrix of the errors is correctly specified.<br/>[2] The condition number is large, 5.1e+05. This might indicate that there are<br/>strong multicollinearity or other numerical problems."
      ],
      "text/plain": [
       "<class 'statsmodels.iolib.summary.Summary'>\n",
       "\"\"\"\n",
       "                            OLS Regression Results                            \n",
       "==============================================================================\n",
       "Dep. Variable:     median_house_value   R-squared:                       0.637\n",
       "Model:                            OLS   Adj. R-squared:                  0.637\n",
       "Method:                 Least Squares   F-statistic:                     4478.\n",
       "Date:                Wed, 18 Nov 2020   Prob (F-statistic):               0.00\n",
       "Time:                        19:50:14   Log-Likelihood:            -2.5682e+05\n",
       "No. Observations:               20433   AIC:                         5.137e+05\n",
       "Df Residuals:                   20424   BIC:                         5.137e+05\n",
       "Df Model:                           8                                         \n",
       "Covariance Type:            nonrobust                                         \n",
       "======================================================================================\n",
       "                         coef    std err          t      P>|t|      [0.025      0.975]\n",
       "--------------------------------------------------------------------------------------\n",
       "Intercept          -3.585e+06   6.29e+04    -57.001      0.000   -3.71e+06   -3.46e+06\n",
       "longitude          -4.273e+04    717.087    -59.588      0.000   -4.41e+04   -4.13e+04\n",
       "latitude           -4.251e+04    676.952    -62.796      0.000   -4.38e+04   -4.12e+04\n",
       "housing_median_age  1157.9003     43.389     26.687      0.000    1072.855    1242.945\n",
       "total_rooms           -8.2497      0.794    -10.387      0.000      -9.807      -6.693\n",
       "total_bedrooms       113.8207      6.931     16.423      0.000     100.236     127.405\n",
       "population           -38.3856      1.084    -35.407      0.000     -40.511     -36.261\n",
       "households            47.7014      7.547      6.321      0.000      32.909      62.493\n",
       "median_income        4.03e+04    337.207    119.504      0.000    3.96e+04     4.1e+04\n",
       "==============================================================================\n",
       "Omnibus:                     4898.534   Durbin-Watson:                   0.975\n",
       "Prob(Omnibus):                  0.000   Jarque-Bera (JB):            18260.733\n",
       "Skew:                           1.166   Prob(JB):                         0.00\n",
       "Kurtosis:                       7.002   Cond. No.                     5.10e+05\n",
       "==============================================================================\n",
       "\n",
       "Warnings:\n",
       "[1] Standard Errors assume that the covariance matrix of the errors is correctly specified.\n",
       "[2] The condition number is large, 5.1e+05. This might indicate that there are\n",
       "strong multicollinearity or other numerical problems.\n",
       "\"\"\""
      ]
     },
     "execution_count": 161,
     "metadata": {},
     "output_type": "execute_result"
    }
   ],
   "source": [
    "import statsmodels.formula.api as smf\n",
    "\n",
    "formula = 'median_house_value ~ longitude + latitude + housing_median_age + total_rooms + total_bedrooms + population + households + median_income'\n",
    "results = smf.ols(formula, data=df).fit()\n",
    "results.summary()"
   ]
  },
  {
   "cell_type": "code",
   "execution_count": null,
   "metadata": {},
   "outputs": [],
   "source": []
  }
 ],
 "metadata": {
  "kernelspec": {
   "display_name": "Python 3",
   "language": "python",
   "name": "python3"
  },
  "language_info": {
   "codemirror_mode": {
    "name": "ipython",
    "version": 3
   },
   "file_extension": ".py",
   "mimetype": "text/x-python",
   "name": "python",
   "nbconvert_exporter": "python",
   "pygments_lexer": "ipython3",
   "version": "3.8.3"
  }
 },
 "nbformat": 4,
 "nbformat_minor": 4
}
